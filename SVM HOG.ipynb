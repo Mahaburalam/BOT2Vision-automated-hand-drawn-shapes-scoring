{
 "cells": [
  {
   "cell_type": "code",
   "execution_count": 3,
   "id": "e91b5319-12fb-4d8a-87c3-2da344b18e2b",
   "metadata": {},
   "outputs": [
    {
     "name": "stdout",
     "output_type": "stream",
     "text": [
      "Requirement already satisfied: scikit-image in /home/mahabur-alam/anaconda3/lib/python3.11/site-packages (0.25.2)\n",
      "Requirement already satisfied: numpy>=1.24 in /home/mahabur-alam/anaconda3/lib/python3.11/site-packages (from scikit-image) (2.1.3)\n",
      "Requirement already satisfied: scipy>=1.11.4 in /home/mahabur-alam/anaconda3/lib/python3.11/site-packages (from scikit-image) (1.15.3)\n",
      "Requirement already satisfied: networkx>=3.0 in /home/mahabur-alam/anaconda3/lib/python3.11/site-packages (from scikit-image) (3.4.2)\n",
      "Requirement already satisfied: pillow>=10.1 in /home/mahabur-alam/anaconda3/lib/python3.11/site-packages (from scikit-image) (11.1.0)\n",
      "Requirement already satisfied: imageio!=2.35.0,>=2.33 in /home/mahabur-alam/anaconda3/lib/python3.11/site-packages (from scikit-image) (2.37.0)\n",
      "Requirement already satisfied: tifffile>=2022.8.12 in /home/mahabur-alam/anaconda3/lib/python3.11/site-packages (from scikit-image) (2025.9.20)\n",
      "Requirement already satisfied: packaging>=21 in /home/mahabur-alam/anaconda3/lib/python3.11/site-packages (from scikit-image) (24.2)\n",
      "Requirement already satisfied: lazy-loader>=0.4 in /home/mahabur-alam/anaconda3/lib/python3.11/site-packages (from scikit-image) (0.4)\n"
     ]
    }
   ],
   "source": [
    "!pip install scikit-image"
   ]
  },
  {
   "cell_type": "code",
   "execution_count": 9,
   "id": "e7322290-f13d-4cea-a554-2dd0d0444b3c",
   "metadata": {},
   "outputs": [],
   "source": [
    "import os, glob\n",
    "import cv2\n",
    "import numpy as np\n",
    "import pandas as pd\n",
    "from skimage.feature import hog\n",
    "from skimage import exposure\n",
    "from sklearn.preprocessing import LabelEncoder\n",
    "from sklearn.model_selection import train_test_split\n",
    "from sklearn.svm import LinearSVC\n",
    "from sklearn.metrics import accuracy_score, classification_report\n",
    "from collections import Counter\n",
    "import matplotlib.pyplot as plt"
   ]
  },
  {
   "cell_type": "code",
   "execution_count": 10,
   "id": "684f6dcf-d315-42b7-b506-e2a283f7277b",
   "metadata": {},
   "outputs": [],
   "source": [
    "# Parameters\n",
    "IMG_SIZE = 128\n",
    "DATA_PATH = \"./Data/Scores\" \n",
    "BATCH_SIZE = 32"
   ]
  },
  {
   "cell_type": "code",
   "execution_count": 11,
   "id": "95666e27-4e28-414e-b29f-6f11b1567545",
   "metadata": {},
   "outputs": [
    {
     "name": "stdout",
     "output_type": "stream",
     "text": [
      "                                              path       label\n",
      "0         ./Data/Scores/Triangle/0/img2302-T-0.png  Triangle_0\n",
      "1         ./Data/Scores/Triangle/0/img1567-T-0.png  Triangle_0\n",
      "2         ./Data/Scores/Triangle/0/img2184-T-0.png  Triangle_0\n",
      "3  ./Data/Scores/Triangle/4/img4155-T-4(10111).png  Triangle_4\n",
      "4  ./Data/Scores/Triangle/4/img3477-T-4(10111).png  Triangle_4\n",
      "Total samples: 4297\n",
      "Unique classes: 34\n"
     ]
    }
   ],
   "source": [
    "# Build dataset\n",
    "paths, labels = [], []\n",
    "\n",
    "for shape_name in os.listdir(DATA_PATH):\n",
    "    shape_path = os.path.join(DATA_PATH, shape_name)\n",
    "    if not os.path.isdir(shape_path):\n",
    "        continue\n",
    "    for score in os.listdir(shape_path):\n",
    "        score_path = os.path.join(shape_path, score)\n",
    "        if not os.path.isdir(score_path):\n",
    "            continue\n",
    "        label = f\"{shape_name}_{score}\"\n",
    "        for ext in (\"*.png\", \"*.jpg\", \"*.jpeg\"):\n",
    "            for p in glob.glob(os.path.join(score_path, ext)):\n",
    "                paths.append(p)\n",
    "                labels.append(label)\n",
    "\n",
    "df = pd.DataFrame({\"path\": paths, \"label\": labels})\n",
    "print(df.head())\n",
    "\n",
    "print(\"Total samples:\", len(df))\n",
    "print(\"Unique classes:\", df['label'].nunique())"
   ]
  },
  {
   "cell_type": "code",
   "execution_count": 12,
   "id": "35a1462f-dd39-47f2-8f33-1d9450937c49",
   "metadata": {},
   "outputs": [],
   "source": [
    "# Feature extraction function\n",
    "def extract_features(path):\n",
    "    img = cv2.imread(path, cv2.IMREAD_GRAYSCALE)\n",
    "    img = cv2.resize(img, (IMG_SIZE, IMG_SIZE))\n",
    "    \n",
    "    # HOG features\n",
    "    hog_feats = hog(img, orientations=9, pixels_per_cell=(8,8),\n",
    "                    cells_per_block=(2,2), block_norm='L2-Hys', feature_vector=True)\n",
    "    \n",
    "    # Hu Moments\n",
    "    moments = cv2.moments(img)\n",
    "    hu_feats = cv2.HuMoments(moments).flatten()\n",
    "    \n",
    "    # Area (simple intensity sum)\n",
    "    area = [np.sum(img)/255.0]\n",
    "    \n",
    "    return np.hstack([hog_feats, hu_feats, area])"
   ]
  },
  {
   "cell_type": "code",
   "execution_count": 16,
   "id": "80cb25a7-d0f5-440f-9bd9-0589af1e1fd2",
   "metadata": {},
   "outputs": [],
   "source": [
    "counts = Counter(y)\n",
    "mask = np.array([counts[label] > 1 for label in y])\n",
    "\n",
    "X = X[mask]\n",
    "y = y[mask]\n",
    "y_labels = y_labels[mask]"
   ]
  },
  {
   "cell_type": "code",
   "execution_count": 17,
   "id": "565bfefa-1573-4afc-ba95-280191332bf1",
   "metadata": {},
   "outputs": [],
   "source": [
    "# ---------------- 5. Train/test split ----------------\n",
    "X_train, X_test, y_train, y_test = train_test_split(\n",
    "    X, y, test_size=0.2, random_state=42\n",
    ")"
   ]
  },
  {
   "cell_type": "code",
   "execution_count": null,
   "id": "578e3433-11a5-4ac8-b9ff-9a1ce9b35034",
   "metadata": {},
   "outputs": [],
   "source": [
    "# ---------------- 6. Hyperparameter tuning ----------------\n",
    "C_values = [0.01, 0.1, 1, 10, 100]\n",
    "train_acc, val_acc = [], []\n",
    "\n",
    "for C in C_values:\n",
    "    clf = LinearSVC(C=C, class_weight='balanced', max_iter=5000)\n",
    "    clf.fit(X_train, y_train)\n",
    "    train_acc.append(clf.score(X_train, y_train))\n",
    "    val_acc.append(clf.score(X_test, y_test))"
   ]
  },
  {
   "cell_type": "code",
   "execution_count": null,
   "id": "e24b6a43-f774-48c8-aba2-686f15b7a9b2",
   "metadata": {},
   "outputs": [],
   "source": [
    "# ---------------- 7. Plot train/validation accuracy ----------------\n",
    "plt.figure(figsize=(8,5))\n",
    "plt.plot(C_values, train_acc, 'b-o', label='Train Accuracy')\n",
    "plt.plot(C_values, val_acc, 'r-o', label='Validation Accuracy')\n",
    "plt.xscale('log')\n",
    "plt.xlabel('C value (log scale)')\n",
    "plt.ylabel('Accuracy')\n",
    "plt.title('LinearSVC Accuracy for different C values')\n",
    "plt.legend()\n",
    "plt.grid(True)\n",
    "plt.show()"
   ]
  },
  {
   "cell_type": "code",
   "execution_count": null,
   "id": "75a37c6b-53d8-42db-90a1-90b7efd51306",
   "metadata": {},
   "outputs": [],
   "source": [
    "# ---------------- 8. Train final model ----------------\n",
    "best_C = C_values[np.argmax(val_acc)]\n",
    "print(f\"Best C: {best_C}\")\n",
    "\n",
    "clf_final = LinearSVC(C=best_C, class_weight='balanced', max_iter=5000)\n",
    "clf_final.fit(X_train, y_train)"
   ]
  },
  {
   "cell_type": "code",
   "execution_count": null,
   "id": "74854051-ede1-4fa5-b44f-4c2d468f1689",
   "metadata": {},
   "outputs": [],
   "source": [
    "# ---------------- 9. Evaluate ----------------\n",
    "y_pred = clf_final.predict(X_test)\n",
    "acc = accuracy_score(y_test, y_pred)\n",
    "print(f\"Test Accuracy: {acc:.4f}\")"
   ]
  },
  {
   "cell_type": "code",
   "execution_count": null,
   "id": "046d4775-c1f7-496a-9949-30efbe1d57ac",
   "metadata": {},
   "outputs": [],
   "source": [
    "# Only include classes present in test set\n",
    "unique_test_labels = np.unique(y_test)\n",
    "print(classification_report(\n",
    "    y_test,\n",
    "    y_pred,\n",
    "    labels=unique_test_labels,\n",
    "    target_names=le.classes_[unique_test_labels]\n",
    "))"
   ]
  }
 ],
 "metadata": {
  "kernelspec": {
   "display_name": "Python 3 (ipykernel)",
   "language": "python",
   "name": "python3"
  },
  "language_info": {
   "codemirror_mode": {
    "name": "ipython",
    "version": 3
   },
   "file_extension": ".py",
   "mimetype": "text/x-python",
   "name": "python",
   "nbconvert_exporter": "python",
   "pygments_lexer": "ipython3",
   "version": "3.11.5"
  }
 },
 "nbformat": 4,
 "nbformat_minor": 5
}
