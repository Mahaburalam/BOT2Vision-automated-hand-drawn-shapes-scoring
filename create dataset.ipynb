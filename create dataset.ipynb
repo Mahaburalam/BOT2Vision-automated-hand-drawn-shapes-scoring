{
 "cells": [
  {
   "cell_type": "code",
   "execution_count": 1,
   "id": "0d0595a9-e246-42e5-a162-c7b00e0dce70",
   "metadata": {},
   "outputs": [],
   "source": [
    "import os\n",
    "import re\n",
    "import pandas as pd"
   ]
  },
  {
   "cell_type": "code",
   "execution_count": 18,
   "id": "9cc8a95e-e366-4e15-afc7-86b980b08808",
   "metadata": {},
   "outputs": [],
   "source": [
    "dataset_dir = \"./Data/Scores\""
   ]
  },
  {
   "cell_type": "code",
   "execution_count": 19,
   "id": "fcb5ae90-b81a-4eac-b1f0-4cda4260b537",
   "metadata": {},
   "outputs": [],
   "source": [
    "shape_map = {\n",
    "    \"C\": \"Circle\",   # C\n",
    "    \"S\": \"Square\",   # S\n",
    "    \"T\": \"Triangle\",   # T\n",
    "    \"D\": \"Diamond\",   # D\n",
    "    \"W\": \"Wave\",   # W\n",
    "    \"ST\": \"Star\",   # ST\n",
    "    \"O\": \"Overlapped Circles\",   # O\n",
    "    \"p\": \"Overlapped Pencils\"    # appears as lowercase p in your dataset\n",
    "}"
   ]
  },
  {
   "cell_type": "code",
   "execution_count": 20,
   "id": "72950ac6-700e-46da-b290-10218cc8d75b",
   "metadata": {},
   "outputs": [],
   "source": [
    "records = []"
   ]
  },
  {
   "cell_type": "code",
   "execution_count": 24,
   "id": "0aa1d3b9-4dbd-4d6a-a25c-06bff67efe18",
   "metadata": {},
   "outputs": [],
   "source": [
    "# Walk through all subfolders\n",
    "for root, dirs, files in os.walk(dataset_dir):\n",
    "    for fname in files:\n",
    "        if fname.endswith((\".jpg\", \".png\", \".jpeg\")):\n",
    "            # Use regex to capture parts: img<ID>-<ShapeCode>-<Score>\n",
    "            match = re.match(r\"img(\\d+)-([A-Za-z]+)-(\\d+)\", fname)\n",
    "            if match:\n",
    "                image_id, shape_code, score = match.groups()\n",
    "                shape_name = shape_map.get(shape_code, shape_code)\n",
    "                filepath = os.path.join(root, fname)  # full path if needed\n",
    "                records.append([image_id, shape_code, shape_name, score, fname, filepath])"
   ]
  },
  {
   "cell_type": "code",
   "execution_count": 26,
   "id": "890de3cc-f3b3-47b3-a7ad-72ebc54d557e",
   "metadata": {},
   "outputs": [],
   "source": [
    "# Create dataframe\n",
    "df = pd.DataFrame(records, columns=[\"image_id\", \"shape_code\", \"shape_name\", \"score\", \"filename\", \"filepath\"])"
   ]
  },
  {
   "cell_type": "code",
   "execution_count": 27,
   "id": "eb620b5b-ea31-4fdc-b60e-aefbf5f43115",
   "metadata": {},
   "outputs": [],
   "source": [
    "# Save CSV\n",
    "df.to_csv(\"dataset.csv\", index=False)"
   ]
  },
  {
   "cell_type": "code",
   "execution_count": 28,
   "id": "3e6673d2-87c9-484f-9933-3e4d7a7373a3",
   "metadata": {},
   "outputs": [
    {
     "name": "stdout",
     "output_type": "stream",
     "text": [
      "CSV file created with 4296 entries\n"
     ]
    }
   ],
   "source": [
    "print(\"CSV file created with\", len(df), \"entries\")"
   ]
  },
  {
   "cell_type": "code",
   "execution_count": null,
   "id": "d22d7053-9b8e-41ae-b6ce-870d7e80af45",
   "metadata": {},
   "outputs": [],
   "source": []
  }
 ],
 "metadata": {
  "kernelspec": {
   "display_name": "Python 3 (ipykernel)",
   "language": "python",
   "name": "python3"
  },
  "language_info": {
   "codemirror_mode": {
    "name": "ipython",
    "version": 3
   },
   "file_extension": ".py",
   "mimetype": "text/x-python",
   "name": "python",
   "nbconvert_exporter": "python",
   "pygments_lexer": "ipython3",
   "version": "3.11.5"
  }
 },
 "nbformat": 4,
 "nbformat_minor": 5
}
