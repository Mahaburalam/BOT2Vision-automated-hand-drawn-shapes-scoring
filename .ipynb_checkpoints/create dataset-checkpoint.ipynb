{
 "cells": [
  {
   "cell_type": "code",
   "execution_count": 1,
   "id": "0d0595a9-e246-42e5-a162-c7b00e0dce70",
   "metadata": {},
   "outputs": [],
   "source": [
    "import os\n",
    "import re\n",
    "import pandas as pd"
   ]
  },
  {
   "cell_type": "code",
   "execution_count": 2,
   "id": "9cc8a95e-e366-4e15-afc7-86b980b08808",
   "metadata": {},
   "outputs": [],
   "source": [
    "dataset_dir = \"./data/Scores.zip\""
   ]
  },
  {
   "cell_type": "code",
   "execution_count": null,
   "id": "fcb5ae90-b81a-4eac-b1f0-4cda4260b537",
   "metadata": {},
   "outputs": [],
   "source": [
    "shape_map = {\n",
    "    \"C\": \"Circle\",   # C\n",
    "    \"S\": \"Square\",   # S\n",
    "    \"T\": \"Triangle\",   # T\n",
    "    \"D\": \"Diamond\",   # D\n",
    "    \"W\": \"Wave\",   # W\n",
    "    \"ST\": \"Star\",   # ST\n",
    "    \"O\": \"Overlapped Circles\",   # sometimes used instead of O\n",
    "    \"p\": \"Overlapped Pencils\"    # appears as lowercase p in your dataset\n",
    "}"
   ]
  }
 ],
 "metadata": {
  "kernelspec": {
   "display_name": "Python 3 (ipykernel)",
   "language": "python",
   "name": "python3"
  },
  "language_info": {
   "codemirror_mode": {
    "name": "ipython",
    "version": 3
   },
   "file_extension": ".py",
   "mimetype": "text/x-python",
   "name": "python",
   "nbconvert_exporter": "python",
   "pygments_lexer": "ipython3",
   "version": "3.11.5"
  }
 },
 "nbformat": 4,
 "nbformat_minor": 5
}
